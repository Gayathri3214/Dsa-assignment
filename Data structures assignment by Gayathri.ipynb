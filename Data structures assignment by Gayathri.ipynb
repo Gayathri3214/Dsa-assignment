{
 "cells": [
  {
   "cell_type": "markdown",
   "id": "6652292b",
   "metadata": {},
   "source": [
    "## Q1. Write a program to find all pairs of an integer array whose sum is equal to a given number?"
   ]
  },
  {
   "cell_type": "code",
   "execution_count": 7,
   "id": "db04c86f",
   "metadata": {},
   "outputs": [
    {
     "name": "stdout",
     "output_type": "stream",
     "text": [
      "sum of (4, 2) is equal to 6\n",
      "sum of (7, -1) is equal to 6\n"
     ]
    }
   ],
   "source": [
    "from itertools import combinations_with_replacement\n",
    " \n",
    "arr = [4, 8, 7, -1, 2]\n",
    "sum1 = 6\n",
    "\n",
    "comb = list(combinations_with_replacement(arr, 2))\n",
    "for i in comb:\n",
    "    if i[0]+i[1] == sum1:\n",
    "        print(f\"sum of {i} is equal to {sum1}\")"
   ]
  },
  {
   "cell_type": "markdown",
   "id": "a9970a99",
   "metadata": {},
   "source": [
    "## Q2. Write a program to reverse an array in place? In place means you cannot create a new array. You have to update the original array."
   ]
  },
  {
   "cell_type": "code",
   "execution_count": 8,
   "id": "bb69b9c7",
   "metadata": {},
   "outputs": [
    {
     "name": "stdout",
     "output_type": "stream",
     "text": [
      "Given list is:  [8, -3, 7, 4, -2, 6]\n",
      "Reversed list is:  [6, -2, 4, 7, -3, 8]\n"
     ]
    }
   ],
   "source": [
    "def reverseList(A):\n",
    "    start = 0\n",
    "    end = len(A)-1\n",
    "    while start < end:\n",
    "        A[start], A[end] = A[end], A[start]\n",
    "        start += 1\n",
    "        end -= 1\n",
    "\n",
    "A = [8, -3, 7, 4, -2, 6]\n",
    "print(f\"Given list is:  {A}\")\n",
    "reverseList(A)\n",
    "print(f\"Reversed list is:  {A}\")"
   ]
  },
  {
   "cell_type": "markdown",
   "id": "32ed0fb5",
   "metadata": {},
   "source": [
    "## Q3. Write a program to check if two strings are a rotation of each other?"
   ]
  },
  {
   "cell_type": "code",
   "execution_count": 9,
   "id": "6b9e1d25",
   "metadata": {},
   "outputs": [
    {
     "name": "stdout",
     "output_type": "stream",
     "text": [
      "Given Strings are rotations of each other.\n"
     ]
    }
   ],
   "source": [
    "def checkRotation(s1, s2): \n",
    "    temp = '' \n",
    "\n",
    "    if len(s1) != len(s2): \n",
    "        return False\n",
    "   \n",
    "    temp = s1 + s1 \n",
    "  \n",
    "    \n",
    "    if s2 in temp: \n",
    "        return True\n",
    "    else: \n",
    "        return False\n",
    "    \n",
    "string1 = \"HELLO\"\n",
    "string2 = \"LOHEL\"\n",
    "  \n",
    "if checkRotation(string1, string2): \n",
    "    print(\"Given Strings are rotations of each other.\")\n",
    "else: \n",
    "    print(\"Given Strings are not rotations of each other.\")"
   ]
  },
  {
   "cell_type": "markdown",
   "id": "1f65260c",
   "metadata": {},
   "source": [
    "## Q4. Write a program to print the first non-repeated character from a string?"
   ]
  },
  {
   "cell_type": "code",
   "execution_count": 10,
   "id": "21dcdd1b",
   "metadata": {},
   "outputs": [
    {
     "name": "stdout",
     "output_type": "stream",
     "text": [
      "First non repeating character is M\n"
     ]
    }
   ],
   "source": [
    "def firstNonRepeatingChar(str1):\n",
    "    char_order = []\n",
    "    counts = {}\n",
    "    for c in str1:\n",
    "        if c in counts:\n",
    "            counts[c] += 1\n",
    "        else:\n",
    "            counts[c] = 1\n",
    "            char_order.append(c)\n",
    "    for c in char_order:\n",
    "        if counts[c] == 1:\n",
    "            return c\n",
    "    return None\n",
    "\n",
    "print(f\"First non repeating character is {firstNonRepeatingChar('PythonforallPythonMustforall')}\")"
   ]
  },
  {
   "cell_type": "markdown",
   "id": "51d80e90",
   "metadata": {},
   "source": [
    "## Q5. Read about the Tower of Hanoi algorithm. Write a program to implement it."
   ]
  },
  {
   "cell_type": "markdown",
   "id": "fca9aae5",
   "metadata": {},
   "source": [
    "Tower of Hanoi is a mathematical puzzle where we have three rods and n disks. The objective of the puzzle is to move the entire stack to another rod, obeying the following simple rules:\n",
    "1) Only one disk can be moved at a time.\n",
    "2) Each move consists of taking the upper disk from one of the stacks and placing it on top of another stack i.e. a disk can only be moved if it is the uppermost disk on a stack.\n",
    "3) No disk may be placed on top of a smaller disk."
   ]
  },
  {
   "cell_type": "code",
   "execution_count": 11,
   "id": "aff54dc1",
   "metadata": {},
   "outputs": [
    {
     "name": "stdout",
     "output_type": "stream",
     "text": [
      "Move disk 1 from source A to destination C\n",
      "Move disk 2 from source A to destination B\n",
      "Move disk 1 from source C to destination B\n",
      "Move disk 3 from source A to destination C\n",
      "Move disk 1 from source B to destination A\n",
      "Move disk 2 from source B to destination C\n",
      "Move disk 1 from source A to destination C\n",
      "Move disk 4 from source A to destination B\n",
      "Move disk 1 from source C to destination B\n",
      "Move disk 2 from source C to destination A\n",
      "Move disk 1 from source B to destination A\n",
      "Move disk 3 from source C to destination B\n",
      "Move disk 1 from source A to destination C\n",
      "Move disk 2 from source A to destination B\n",
      "Move disk 1 from source C to destination B\n"
     ]
    }
   ],
   "source": [
    "def TowerOfHanoi(n , source, destination, auxiliary):\n",
    "    if n==1:\n",
    "        print(\"Move disk 1 from source\",source,\"to destination\",destination)\n",
    "        return\n",
    "    TowerOfHanoi(n-1, source, auxiliary, destination)\n",
    "    print(\"Move disk\",n,\"from source\",source,\"to destination\",destination)\n",
    "    TowerOfHanoi(n-1, auxiliary, destination, source)\n",
    "          \n",
    "n = 4\n",
    "TowerOfHanoi(n,'A','B','C')"
   ]
  },
  {
   "cell_type": "markdown",
   "id": "8896b53b",
   "metadata": {},
   "source": [
    "##  Q6. Read about infix, prefix, and postfix expressions. Write a program to convert postfix to prefix expression."
   ]
  },
  {
   "cell_type": "markdown",
   "id": "8c9e02cc",
   "metadata": {},
   "source": [
    "**Postfix** : An expression is called the postfix expression if the operator appears in the expression after the operands. Simply of the form (operand1 operand2 operator).\n",
    "Example : AB+CD- (Infix : (A+B) (C-D))\n",
    "\n",
    "**Prefix** : An expression is called the prefix expression if the operator appears in the expression before the operands. Simply of the form (operator operand1 operand2).\n",
    "Example : +AB-CD (Infix : (A+B) (C-D))\n",
    "\n",
    "\n",
    "**Infix** : An expression is called the Infix expression if the operator appears in between the operands in the expression. Simply of the form (operand1 operator operand2).\n",
    "Example : (A+B) * (C-D)"
   ]
  },
  {
   "cell_type": "code",
   "execution_count": 12,
   "id": "d8aa7374",
   "metadata": {},
   "outputs": [
    {
     "name": "stdout",
     "output_type": "stream",
     "text": [
      "Prefix :  +AB-CD\n"
     ]
    }
   ],
   "source": [
    "def isOperator(x):\n",
    " \n",
    "    if x == \"+\":\n",
    "        return True\n",
    " \n",
    "    if x == \"-\":\n",
    "        return True\n",
    " \n",
    "    if x == \"/\":\n",
    "        return True\n",
    " \n",
    "    if x == \"*\":\n",
    "        return True\n",
    " \n",
    "    return False\n",
    "\n",
    "def postToPre(post_exp):\n",
    " \n",
    "    s = []\n",
    " \n",
    "    length = len(post_exp)\n",
    " \n",
    "    for i in range(length):\n",
    "        if (isOperator(post_exp[i])):\n",
    "            op1 = s[-1]\n",
    "            s.pop()\n",
    "            op2 = s[-1]\n",
    "            s.pop()\n",
    "            temp = post_exp[i] + op2 + op1\n",
    "            s.append(temp)\n",
    "\n",
    "        else:\n",
    "            s.append(post_exp[i])\n",
    " \n",
    "    \n",
    "    ans = \"\"\n",
    "    for i in s:\n",
    "        ans += i\n",
    "    return ans\n",
    "\n",
    "if __name__ == \"__main__\":\n",
    " \n",
    "    post_exp = \"AB+CD-\"\n",
    "    print(\"Prefix : \", postToPre(post_exp))"
   ]
  },
  {
   "cell_type": "markdown",
   "id": "23c31135",
   "metadata": {},
   "source": [
    "## Q7. Write a program to convert prefix expression to infix expression."
   ]
  },
  {
   "cell_type": "code",
   "execution_count": 13,
   "id": "f4c0dcef",
   "metadata": {},
   "outputs": [
    {
     "name": "stdout",
     "output_type": "stream",
     "text": [
      "((A-(B/C))*((A/K)-L))\n"
     ]
    }
   ],
   "source": [
    "def prefixToInfix(prefix):\n",
    "    stack = []\n",
    "     \n",
    "    i = len(prefix) - 1\n",
    "    while i >= 0:\n",
    "        if not isOperator(prefix[i]):\n",
    "            stack.append(prefix[i])\n",
    "            i -= 1\n",
    "        else:\n",
    "            str = \"(\" + stack.pop() + prefix[i] + stack.pop() + \")\"\n",
    "            stack.append(str)\n",
    "            i -= 1\n",
    "     \n",
    "    return stack.pop()\n",
    " \n",
    "def isOperator(c):\n",
    "    if c == \"*\" or c == \"+\" or c == \"-\" or c == \"/\" or c == \"^\" or c == \"(\" or c == \")\":\n",
    "        return True\n",
    "    else:\n",
    "        return False\n",
    "if __name__==\"__main__\":\n",
    "    str = \"*-A/BC-/AKL\"\n",
    "    print(prefixToInfix(str))"
   ]
  },
  {
   "cell_type": "markdown",
   "id": "2ea3b7f7",
   "metadata": {},
   "source": [
    "## Q8. Write a program to check if all the brackets are closed in a given code snippet.\n"
   ]
  },
  {
   "cell_type": "code",
   "execution_count": 14,
   "id": "4a0036a5",
   "metadata": {},
   "outputs": [
    {
     "name": "stdout",
     "output_type": "stream",
     "text": [
      "Balanced\n"
     ]
    }
   ],
   "source": [
    "def areBracketsBalanced(expr):\n",
    "    stack = []\n",
    " \n",
    "    # Traversing the Expression\n",
    "    for char in expr:\n",
    "        if char in [\"(\", \"{\", \"[\"]:\n",
    " \n",
    "            # Push the element in the stack\n",
    "            stack.append(char)\n",
    "        else:\n",
    " \n",
    "            # IF current character is not opening\n",
    "            # bracket, then it must be closing.\n",
    "            # So stack cannot be empty at this point.\n",
    "            if not stack:\n",
    "                return False\n",
    "            current_char = stack.pop()\n",
    "            if current_char == '(':\n",
    "                if char != \")\":\n",
    "                    return False\n",
    "            if current_char == '{':\n",
    "                if char != \"}\":\n",
    "                    return False\n",
    "            if current_char == '[':\n",
    "                if char != \"]\":\n",
    "                    return False\n",
    " \n",
    "    # Check Empty Stack\n",
    "    if stack:\n",
    "        return False\n",
    "    return True\n",
    "\n",
    "if __name__ == \"__main__\":\n",
    "    expr = \"{()}[]\"\n",
    "\n",
    "    if areBracketsBalanced(expr):\n",
    "        print(\"Balanced\")\n",
    "    else:\n",
    "        print(\"Not Balanced\")"
   ]
  },
  {
   "cell_type": "markdown",
   "id": "7ee2e36f",
   "metadata": {},
   "source": [
    "## Q9. Write a program to reverse a stack."
   ]
  },
  {
   "cell_type": "code",
   "execution_count": 15,
   "id": "da6e2bb3",
   "metadata": {},
   "outputs": [
    {
     "name": "stdout",
     "output_type": "stream",
     "text": [
      "Original Stack\n",
      "5\n",
      "4\n",
      "3\n",
      "2\n",
      "1\n",
      "\n",
      "Stack after Reversing\n",
      "1\n",
      "2\n",
      "3\n",
      "4\n",
      "5\n"
     ]
    }
   ],
   "source": [
    "class Stack:\n",
    "\n",
    "    def __init__(self):\n",
    "        self.Elements = []\n",
    "        \n",
    "    def push(self, value):\n",
    "        self.Elements.append(value)\n",
    "       \n",
    "    def pop(self):\n",
    "        return self.Elements.pop()\n",
    "     \n",
    "    def empty(self):\n",
    "        return self.Elements == []\n",
    "     \n",
    "    def show(self):\n",
    "        for value in reversed(self.Elements):\n",
    "            print(value)\n",
    "\n",
    "def BottomInsert(s, value):\n",
    "\n",
    "    if s.empty():\n",
    "        s.push(value)\n",
    "         \n",
    "    else:\n",
    "        popped = s.pop()\n",
    "        BottomInsert(s, value)\n",
    "        s.push(popped)\n",
    "\n",
    "def Reverse(s):\n",
    "    if s.empty():\n",
    "        pass\n",
    "    else:\n",
    "        popped = s.pop()\n",
    "        Reverse(s)\n",
    "        BottomInsert(s, popped)\n",
    "\n",
    "stk = Stack()\n",
    " \n",
    "stk.push(1)\n",
    "stk.push(2)\n",
    "stk.push(3)\n",
    "stk.push(4)\n",
    "stk.push(5)\n",
    " \n",
    "print(\"Original Stack\")\n",
    "stk.show()\n",
    " \n",
    "print(\"\\nStack after Reversing\")\n",
    "Reverse(stk)\n",
    "stk.show()"
   ]
  },
  {
   "cell_type": "markdown",
   "id": "3d4d714d",
   "metadata": {},
   "source": [
    "## Q10. Write a program to find the smallest number using a stack."
   ]
  },
  {
   "cell_type": "code",
   "execution_count": 16,
   "id": "595c3b3b",
   "metadata": {},
   "outputs": [
    {
     "name": "stdout",
     "output_type": "stream",
     "text": [
      "Minimum number in stack is 3\n"
     ]
    }
   ],
   "source": [
    "from collections import deque\n",
    "\n",
    "class MinStack:\n",
    "    def __init__(self):\n",
    " \n",
    "        self.s = deque()\n",
    " \n",
    "        self.min = None\n",
    " \n",
    "    def push(self, x):\n",
    " \n",
    "        if not self.s:\n",
    "            self.s.append(x)\n",
    "            self.min = x\n",
    " \n",
    "        elif x > self.min:\n",
    "            self.s.append(x)\n",
    " \n",
    "        else:\n",
    "            self.s.append(2*x - self.min)\n",
    "            self.min = x\n",
    " \n",
    "    def pop(self):\n",
    "        if not self.s:\n",
    "            self.print(\"Stack underflow!!\")\n",
    " \n",
    "        top = self.s[-1]\n",
    "        if top < self.min:\n",
    "            self.min = 2*self.min - top\n",
    "        self.s.pop()\n",
    "        \n",
    "    def show(self):\n",
    "        return self.s\n",
    "\n",
    "    def minimum(self):\n",
    "        return self.min\n",
    "    \n",
    "if __name__ == '__main__':\n",
    " \n",
    "    s = MinStack()\n",
    " \n",
    "    s.push(6)\n",
    "    s.push(7)\n",
    "    s.push(5)\n",
    "    s.push(3)\n",
    "\n",
    "    print(\"Minimum number in stack is\",s.minimum())"
   ]
  }
 ],
 "metadata": {
  "kernelspec": {
   "display_name": "Python 3 (ipykernel)",
   "language": "python",
   "name": "python3"
  },
  "language_info": {
   "codemirror_mode": {
    "name": "ipython",
    "version": 3
   },
   "file_extension": ".py",
   "mimetype": "text/x-python",
   "name": "python",
   "nbconvert_exporter": "python",
   "pygments_lexer": "ipython3",
   "version": "3.9.6"
  }
 },
 "nbformat": 4,
 "nbformat_minor": 5
}
